{
 "cells": [
  {
   "cell_type": "code",
   "execution_count": 9,
   "id": "384935e3",
   "metadata": {},
   "outputs": [],
   "source": [
    "import numpy as np\n",
    "import matplotlib.pyplot as plt"
   ]
  },
  {
   "cell_type": "markdown",
   "id": "3349aa26",
   "metadata": {},
   "source": [
    "# 1.Implement kmean algorithm by Numpy."
   ]
  },
  {
   "cell_type": "code",
   "execution_count": 14,
   "id": "fd15502a",
   "metadata": {},
   "outputs": [],
   "source": [
    "def init_centroids(K,X):\n",
    "    \"\"\"returns k centroids from the initial points\"\"\"\n",
    "    m, n = np.shape(X)\n",
    "    # a centroid should be of shape (1, n), so the centroids array will be of shape (K, n)\n",
    "    centroids = np.empty((K, n))\n",
    "    for i in range(K):\n",
    "        centroids[i] =  X[np.random.choice(range(m))] \n",
    "    return centroids\n",
    "\n",
    "def euclidean_distance(x1, x2):\n",
    "    \"\"\"Calculates euclidean distance between two vectors x1 and x2\"\"\"\n",
    "    return np.sqrt(np.sum(np.power(x1 - x2, 2)))\n",
    "\n",
    "def closest_centroid(x, centroids, K):\n",
    "    \"\"\"Finds and returns the index of the closest centroid for a given vector x\"\"\"\n",
    "    distances = np.empty(K)\n",
    "    for i in range(K):\n",
    "        distances[i] = euclidean_distance(centroids[i], x)\n",
    "    return np.argmin(distances) # return the index of the lowest distance"
   ]
  },
  {
   "cell_type": "code",
   "execution_count": 15,
   "id": "58e91e98",
   "metadata": {},
   "outputs": [],
   "source": [
    "def create_clusters(centroids, K, X):\n",
    "    \"\"\"Returns an array of cluster indices for all the data samples\"\"\"\n",
    "    m, _ = np.shape(X)\n",
    "    cluster_idx = np.empty(m)\n",
    "    for i in range(m):\n",
    "        cluster_idx[i] = closest_centroid(X[i], centroids, K)\n",
    "    return cluster_idx"
   ]
  },
  {
   "cell_type": "code",
   "execution_count": 16,
   "id": "393b02af",
   "metadata": {},
   "outputs": [],
   "source": [
    "def compute_means(cluster_idx, K, X):\n",
    "    _, n = np.shape(X)\n",
    "    centroids = np.empty((K, n))\n",
    "    for i in range(K):\n",
    "        points = X[cluster_idx == i]\n",
    "        centroids[i] = np.mean(points, axis=0)\n",
    "    return centroids\n",
    "\n",
    "\n",
    "\n",
    "def run_Kmeans(K, X, max_iterations=500):\n",
    "    # initialize random centroids\n",
    "    centroids = init_centroids(K,X)\n",
    "    # loop till max_iterations or convergance\n",
    "    print(f\"initial centroids: {centroids}\")\n",
    "    for _ in range(max_iterations):\n",
    "        # create clusters by assigning the samples to the closet centroids\n",
    "        clusters = create_clusters(centroids, K, X)\n",
    "        previous_centroids = centroids                                                                                                                                                                                                                                                                                                                                                                                                                                                                              \n",
    "        # compute means of the clusters and assign to centroids\n",
    "        centroids = compute_means(clusters, K, X)\n",
    "        # if the new_centroids are the same as the old centroids, return clusters\n",
    "        diff = previous_centroids - centroids\n",
    "        if not diff.any():\n",
    "            return clusters\n",
    "    return clusters"
   ]
  },
  {
   "cell_type": "code",
   "execution_count": 17,
   "id": "128cdebc",
   "metadata": {},
   "outputs": [
    {
     "name": "stdout",
     "output_type": "stream",
     "text": [
      "initial centroids: [[-4.8270962  -4.34903367]\n",
      " [-3.51680766 -4.5208317 ]\n",
      " [-2.76417641 -8.04162015]]\n"
     ]
    }
   ],
   "source": [
    "from sklearn import datasets\n",
    "# creating a dataset for clustering\n",
    "X, y = datasets.make_blobs()\n",
    "y_preds = run_Kmeans(3, X)"
   ]
  },
  {
   "cell_type": "code",
   "execution_count": 33,
   "id": "8eca5eea",
   "metadata": {},
   "outputs": [
    {
     "ename": "ModuleNotFoundError",
     "evalue": "No module named 'mlfromscratch'",
     "output_type": "error",
     "traceback": [
      "\u001b[1;31m---------------------------------------------------------------------------\u001b[0m",
      "\u001b[1;31mModuleNotFoundError\u001b[0m                       Traceback (most recent call last)",
      "Cell \u001b[1;32mIn[33], line 1\u001b[0m\n\u001b[1;32m----> 1\u001b[0m \u001b[38;5;28;01mfrom\u001b[39;00m \u001b[38;5;21;01mmlfromscratch\u001b[39;00m\u001b[38;5;21;01m.\u001b[39;00m\u001b[38;5;21;01mutils\u001b[39;00m \u001b[38;5;28;01mimport\u001b[39;00m Plot\n\u001b[0;32m      2\u001b[0m p \u001b[38;5;241m=\u001b[39m Plot()\n\u001b[0;32m      3\u001b[0m p\u001b[38;5;241m.\u001b[39mplot_in_2d(X, y_preds, title\u001b[38;5;241m=\u001b[39m\u001b[38;5;124m\"\u001b[39m\u001b[38;5;124mK-Means Clustering\u001b[39m\u001b[38;5;124m\"\u001b[39m)\n",
      "\u001b[1;31mModuleNotFoundError\u001b[0m: No module named 'mlfromscratch'"
     ]
    }
   ],
   "source": [
    "from mlfromscratch.utils import Plot\n",
    "p = Plot()\n",
    "p.plot_in_2d(X, y_preds, title=\"K-Means Clustering\")\n",
    "p.plot_in_2d(X, y, title=\"Actual Clustering\")"
   ]
  },
  {
   "cell_type": "markdown",
   "id": "740d4caa",
   "metadata": {},
   "source": [
    "# 2.Create at least three toy dataset (https://scikit-learn.org/stable/datasets/sample_generators.html), then apply kmean algorithm built in the first question? Try different number of cluster to see how the result change?"
   ]
  },
  {
   "cell_type": "code",
   "execution_count": null,
   "id": "79af9fc7",
   "metadata": {},
   "outputs": [],
   "source": []
  },
  {
   "cell_type": "markdown",
   "id": "ca5d95db",
   "metadata": {},
   "source": [
    "# 3.Read and understand how to choose k (https://www.analyticsvidhya.com/blog/2021/05/k-mean-getting-the-optimal-number-of-clusters/), draw the elbow for the above dataset."
   ]
  },
  {
   "cell_type": "code",
   "execution_count": null,
   "id": "962c24e2",
   "metadata": {},
   "outputs": [],
   "source": []
  },
  {
   "cell_type": "markdown",
   "id": "400bf008",
   "metadata": {},
   "source": [
    "# 4.Read the limitation of kmean (https://developers.google.com/machine-learning/clustering/algorithm/advantages-disadvantages), find at least three example k-mean doesn't work."
   ]
  },
  {
   "cell_type": "code",
   "execution_count": null,
   "id": "0d0d7d5e",
   "metadata": {},
   "outputs": [],
   "source": []
  }
 ],
 "metadata": {
  "kernelspec": {
   "display_name": "Python 3 (ipykernel)",
   "language": "python",
   "name": "python3"
  },
  "language_info": {
   "codemirror_mode": {
    "name": "ipython",
    "version": 3
   },
   "file_extension": ".py",
   "mimetype": "text/x-python",
   "name": "python",
   "nbconvert_exporter": "python",
   "pygments_lexer": "ipython3",
   "version": "3.8.8"
  }
 },
 "nbformat": 4,
 "nbformat_minor": 5
}
